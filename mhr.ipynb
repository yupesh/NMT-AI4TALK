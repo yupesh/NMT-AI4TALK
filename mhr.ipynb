{
 "cells": [
  {
   "cell_type": "markdown",
   "id": "f005137e-aca2-4a29-a1ec-8f3b9b2e8148",
   "metadata": {},
   "source": [
    "# Collecting Mari dataset locally"
   ]
  },
  {
   "cell_type": "code",
   "execution_count": null,
   "id": "07dd5e51-025b-45b1-9552-8f36798a3316",
   "metadata": {},
   "outputs": [],
   "source": [
    "out_path='/Users/yuriypeshkichev/Projects/huawei-nlp/final_project/'"
   ]
  },
  {
   "cell_type": "code",
   "execution_count": 2,
   "id": "ad627b0f-a503-490b-8900-cdbd429986f3",
   "metadata": {},
   "outputs": [],
   "source": [
    "%load_ext autoreload\n",
    "%autoreload 2"
   ]
  },
  {
   "cell_type": "code",
   "execution_count": 3,
   "id": "904eba9c-06d0-48e3-afe0-8c3d2b1f97cf",
   "metadata": {},
   "outputs": [
    {
     "name": "stdout",
     "output_type": "stream",
     "text": [
      "/Users/yuriypeshkichev/Projects/huawei-nlp/final_project\n"
     ]
    }
   ],
   "source": [
    "%cd /Users/yuriypeshkichev/Projects/huawei-nlp/final_project/"
   ]
  },
  {
   "cell_type": "code",
   "execution_count": 5,
   "id": "a72033e1-130b-4831-9b69-6c296bcf7c34",
   "metadata": {},
   "outputs": [],
   "source": [
    "from cyrillicToLatin import cyrToIPA"
   ]
  },
  {
   "cell_type": "code",
   "execution_count": 7,
   "id": "38eb61c7-304b-4ae9-9d99-9f5a568974ec",
   "metadata": {},
   "outputs": [],
   "source": [
    "import pandas as pd"
   ]
  },
  {
   "cell_type": "code",
   "execution_count": 8,
   "id": "6ede8d27-5bda-408a-a344-ba7f54184c77",
   "metadata": {},
   "outputs": [],
   "source": [
    "import os"
   ]
  },
  {
   "cell_type": "code",
   "execution_count": 6,
   "id": "dc05d798-1f53-423e-8ee5-580ef29015d3",
   "metadata": {},
   "outputs": [],
   "source": [
    "import re"
   ]
  },
  {
   "cell_type": "code",
   "execution_count": 10,
   "id": "d1e8e503-e3b8-4c5b-b6c0-05bc3ac15d55",
   "metadata": {},
   "outputs": [],
   "source": [
    "from bs4 import BeautifulSoup # this module helps in web scrapping.\n",
    "import requests  # this module helps us to download a web page"
   ]
  },
  {
   "cell_type": "code",
   "execution_count": null,
   "id": "c765ebf5-0dad-4b64-9e9d-3786a3d84e22",
   "metadata": {},
   "outputs": [],
   "source": [
    "# This is to retrieve Mari dataset. Had to stop retreveing because they return OK all the way\n",
    "\n",
    "i=1\n",
    "input_txt=[]\n",
    "target_txt=[]\n",
    "while True:\n",
    "    res=requests.get(f\"http://marlamuter.com/muter/10_%D1%82%D0%BE%D0%BC%D0%B0%D0%BD/{i}\")\n",
    "    i += 1\n",
    "    if res.status_code != 200:\n",
    "        print (res.status_code)\n",
    "        break\n",
    "    soup = BeautifulSoup(res.text, \"html.parser\")\n",
    "    spans1 = soup.find_all('span', {'class' : 'mutlan1'})\n",
    "    spans3 = soup.find_all('span', {'class' : 'mutlan3'})\n",
    "    lines1 = [span.get_text() for span in spans1]\n",
    "    lines3 = [span.get_text() for span in spans3]\n",
    "    input_txt.extend(lines1)\n",
    "    target_txt.extend(lines3)\n",
    "    if i%100 == 0:\n",
    "        print (i)"
   ]
  },
  {
   "cell_type": "code",
   "execution_count": 49,
   "id": "5c94695e-7eda-4b3b-8d52-0bfe5e9a974b",
   "metadata": {},
   "outputs": [],
   "source": [
    "with open(out_path+\"mhr-marlamuter.tsv\",\"w\") as fw:\n",
    "    for a,b in zip(input_txt,target_txt):\n",
    "        fw.write(a+\"\\t\"+b+\"\\n\")"
   ]
  },
  {
   "cell_type": "code",
   "execution_count": 19,
   "id": "f955b009-e608-4023-8bcf-3cf371ea7986",
   "metadata": {},
   "outputs": [],
   "source": [
    "def clean_text(string):\n",
    "    \n",
    "    a=re.compile(\"<.*?>\")\n",
    "    txt=a.sub('',string)\n",
    "    \n",
    "    txt = txt.replace(\"'\",'')\n",
    "    txt = re.sub(\"[\\(\\[].*?[\\)\\]]\", \"\", txt).lower()\n",
    "    txt = re.sub(r'{[^}]*}','',txt)\n",
    "       \n",
    "    \n",
    "    txt = txt.replace('*', '')\n",
    "    txt = txt.replace('\"', '')\n",
    "    txt = txt.replace('«', '')\n",
    "    txt = txt.replace('»', '')\n",
    "    txt = txt.replace('ʼ', '')\n",
    "    txt = txt.replace('—','')\n",
    "    txt = \" \".join(txt.split())\n",
    "    \n",
    "    txt = txt.replace('ˊ','')\n",
    "    txt = txt.replace('ˋ','')\n",
    "\n",
    "    txt = txt.replace(\"=\",'')\n",
    "    #txt =re.sub(r\"\\d+\", \"\", txt)\n",
    "    txt = re.sub(r'(?<=[.,])(?=[^\\s])', r' ', txt)\n",
    "\n",
    "    #txt = re.sub(r'[^\\w\\s]','',txt)\n",
    "    txt = re.sub(r'[.,\"\\'?:!;]', '', txt)\n",
    "    txt = txt.replace(\"[\",'')\n",
    "    txt = txt.replace(\"]\",'')\n",
    "    return txt"
   ]
  },
  {
   "cell_type": "code",
   "execution_count": 11,
   "id": "b89decd9-9b50-48cd-a0aa-d1f9a26bf165",
   "metadata": {},
   "outputs": [],
   "source": [
    "corpus = pd.read_csv(out_path+'mhr-marlamuter.tsv',header=None,sep=\"\\t\")"
   ]
  },
  {
   "cell_type": "code",
   "execution_count": 21,
   "id": "74724448-d9ae-4f68-8ea0-5c33e03dacec",
   "metadata": {},
   "outputs": [],
   "source": [
    "corpus1=corpus.dropna()"
   ]
  },
  {
   "cell_type": "code",
   "execution_count": 25,
   "id": "c93c37ec-0d36-4eef-96a6-303c94a62d7d",
   "metadata": {},
   "outputs": [],
   "source": [
    "corpus1=corpus1.reset_index(drop=True)"
   ]
  },
  {
   "cell_type": "code",
   "execution_count": 26,
   "id": "0413b35c-3493-4be5-8c8d-425b35a51ed2",
   "metadata": {},
   "outputs": [],
   "source": [
    "i=0\n",
    "crp = open(out_path+\"mhr_corpus.tsv\",\"w\",encoding='utf8')\n",
    "while i<len(corpus1):\n",
    "\n",
    "    string1 = clean_text(corpus1[0][i])\n",
    "    string1 = cyrToIPA(string1)\n",
    "    string2 = clean_text(corpus1[1][i])\n",
    "\n",
    "    # if has_latin(string1):\n",
    "    #     i+=1\n",
    "    #     continue\n",
    "    if string1 and string2:\n",
    "        crp.write(string1+\"\\t\"+string2+\"\\n\")\n",
    "    i +=1\n",
    "crp.close()"
   ]
  },
  {
   "cell_type": "code",
   "execution_count": 22,
   "id": "c3229ec2-03dc-4c17-bae6-ba1eef75351a",
   "metadata": {},
   "outputs": [
    {
     "data": {
      "text/plain": [
       "107575"
      ]
     },
     "execution_count": 22,
     "metadata": {},
     "output_type": "execute_result"
    }
   ],
   "source": [
    "len(corpus1)"
   ]
  },
  {
   "cell_type": "code",
   "execution_count": null,
   "id": "7e32172d-1d83-476d-87c0-3eea1927d664",
   "metadata": {},
   "outputs": [],
   "source": []
  }
 ],
 "metadata": {
  "kernelspec": {
   "display_name": "Python 3 (ipykernel)",
   "language": "python",
   "name": "python3"
  },
  "language_info": {
   "codemirror_mode": {
    "name": "ipython",
    "version": 3
   },
   "file_extension": ".py",
   "mimetype": "text/x-python",
   "name": "python",
   "nbconvert_exporter": "python",
   "pygments_lexer": "ipython3",
   "version": "3.10.4"
  }
 },
 "nbformat": 4,
 "nbformat_minor": 5
}
